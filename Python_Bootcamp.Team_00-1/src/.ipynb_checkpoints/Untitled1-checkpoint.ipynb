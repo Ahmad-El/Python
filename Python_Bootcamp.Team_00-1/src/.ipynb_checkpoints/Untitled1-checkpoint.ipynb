{
 "cells": [
  {
   "cell_type": "code",
   "execution_count": 22,
   "id": "f7f969db-0565-44e8-8057-0c4a5a62f030",
   "metadata": {},
   "outputs": [
    {
     "name": "stdout",
     "output_type": "stream",
     "text": [
      "[]\n"
     ]
    }
   ],
   "source": [
    "from neo4j import GraphDatabase\n",
    "from py2neo import Graph, Node\n",
    "\n",
    "# URI examples: \"neo4j://localhost\", \"neo4j+s://xxx.databases.neo4j.io\"\n",
    "neo4j_url = \"bolt://localhost:7687\"  # Make sure to use the correct port\n",
    "neo4j_username = \"neo4j\"\n",
    "neo4j_password = \"12345678\"\n",
    "\n",
    "URI = neo4j_url\n",
    "AUTH = (neo4j_username, neo4j_password)\n",
    "\n",
    "def execute_query(query):\n",
    "    with GraphDatabase.driver(neo4j_url, auth=(neo4j_username, neo4j_password)) as driver:\n",
    "        with driver.session() as session:\n",
    "            result = session.run(query)\n",
    "            return result.data()\n",
    "\n",
    "\n",
    "\n",
    "with GraphDatabase.driver(URI, auth=AUTH) as driver:\n",
    "    driver.verify_connectivity()\n",
    "    query = \"MATCH (n) RETURN n\"\n",
    "    result = execute_query(query)\n",
    "    print(result)"
   ]
  }
 ],
 "metadata": {
  "kernelspec": {
   "display_name": "Python 3 (ipykernel)",
   "language": "python",
   "name": "python3"
  },
  "language_info": {
   "codemirror_mode": {
    "name": "ipython",
    "version": 3
   },
   "file_extension": ".py",
   "mimetype": "text/x-python",
   "name": "python",
   "nbconvert_exporter": "python",
   "pygments_lexer": "ipython3",
   "version": "3.11.4"
  }
 },
 "nbformat": 4,
 "nbformat_minor": 5
}
